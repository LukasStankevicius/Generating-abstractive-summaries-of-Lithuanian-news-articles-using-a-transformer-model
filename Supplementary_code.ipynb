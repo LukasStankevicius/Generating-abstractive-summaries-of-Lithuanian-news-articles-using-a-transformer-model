{
  "nbformat": 4,
  "nbformat_minor": 0,
  "metadata": {
    "colab": {
      "name": "Untitled1.ipynb",
      "provenance": [],
      "authorship_tag": "ABX9TyMkbfxCch8pCkGk0SSxPEsp",
      "include_colab_link": true
    },
    "kernelspec": {
      "name": "python3",
      "display_name": "Python 3"
    },
    "language_info": {
      "name": "python"
    }
  },
  "cells": [
    {
      "cell_type": "markdown",
      "metadata": {
        "id": "view-in-github",
        "colab_type": "text"
      },
      "source": [
        "<a href=\"https://colab.research.google.com/github/LukasStankevicius/Generating-abstractive-summaries-of-Lithuanian-news-articles-using-a-transformer-model/blob/main/Supplementary_code.ipynb\" target=\"_parent\"><img src=\"https://colab.research.google.com/assets/colab-badge.svg\" alt=\"Open In Colab\"/></a>"
      ]
    },
    {
      "cell_type": "markdown",
      "metadata": {
        "id": "uTEE4bYk_DTe"
      },
      "source": [
        "#Simple usage"
      ]
    },
    {
      "cell_type": "code",
      "metadata": {
        "id": "lbjusyDl_Fmy"
      },
      "source": [
        "from transformers import pipeline\n",
        "name= \"LukasStankevicius/t5-base-lithuanian-news-summaries-175\"\n",
        "my_pipeline = pipeline(task=\"text2text-generation\", model=name, framework=\"pt\")"
      ],
      "execution_count": null,
      "outputs": []
    },
    {
      "cell_type": "markdown",
      "metadata": {
        "id": "6ttTh2qdFcQq"
      },
      "source": [
        "Given the following article body from [15min](https://www.15min.lt/24sek/naujiena/lietuva/tarp-penkiu-rezultatyviausiu-tsrs-rinktines-visu-laiku-zaideju-trys-lietuviai-875-1380030):"
      ]
    },
    {
      "cell_type": "code",
      "metadata": {
        "id": "0CXBzVNCFgSv"
      },
      "source": [
        "text = \"\"\"\n",
        "Latvijos krepšinio legenda Valdis Valteris pirmadienį socialiniame tinkle pasidalino statistika, kurios viršūnėje yra Arvydas Sabonis.\n",
        "1982 metais TSRS rinktinėje debiutavęs 222 cm ūgio vidurio puolėjas su raudona apranga sužaidė 52 rungtynes, per kurias rinko po 15,6 taško. Tai pats aukščiausias rezultatyvumo vidurkis tarp visų sovietų komandai atstovavusių žaidėjų, skaičiuojant tuos, kurie sužaidė ne mažiau nei 50 rungtynių. Antras šioje rikiuotėje kitas buvęs Kauno „Žalgirio“ krepšininkas Rimas Kurtinaitis. Jis debiutavo TSRS rinktinėje vėliau nei Sabas, – 1984 metais, bet irgi sužaidė 52 mačus. R.Kurtinaitis pelnė po 15 taškų. 25-ių rezultatyviausių žaidėjų sąrašu pasidalinęs latvis V.Valteris, pelnęs po 13,8 taško, yra trečias.\n",
        "Ketvirtas yra iš Kazachstano kilęs Valerijus Tichonenka, pelnęs po 13,7 taško per 79 rungtynes. Rezultatyviausią visų laikų TSRS rinktinės penketą uždaro Modestas Paulauskas. Lietuvos krepšinio legenda pelnė po 13,6 taško per 84 mačus.\n",
        "Dešimtuke taip pat yra Oleksandras Volkovas (po 13,5 taško), Sergejus Belovas (12,7), Anatolijus Myškinas (po 12,3), Vladimiras Tkačenka (11,7) ir Aleksandras Salnikovas (11,4). Dvyliktas šiame sąraše yra Valdemaras Chomičius, vidutiniškai rinkęs po 10 taškų, o keturioliktas dar vienas buvęs žalgirietis Sergejus Jovaiša (po 9,8 taško). Šarūno Marčiulionio rezultatyvumo vidurkis turėjo būti aukštesnis, bet jis sužaidė mažiau nei 50 rungtynių. Kaip žinia, Lietuvai išsilaisvinus ir atkūrus Nepriklausomybę, visi minėti mūsų šalies krepšininkai, išskyrus karjerą jau baigusį M.Paulauską, užsivilko žalią aprangą ir atstovavo savo tėvynei.\n",
        "A.Sabonis pagal rezultatyvumo vidurkį yra pirmas – jis Lietuvos rinktinei pelnė po 20 taškų. Antras pagal taškų vidurkį yra Artūras Karnišovas, rinkęs po 18,2 taško ir pelnęs iš viso daugiausiai taškų atstovaujant Lietuvos rinktinei (1453).\n",
        "Tarp žaidėjų, kurie sužaidė bent po 50 oficialių rungtynių Lietuvos rinktinėje, trečią vietą užima Ramūnas Šiškauskas (po 12,9), ketvirtąją Linas Kleiza (po 12,7 taško), o penktas – Saulius Štombergas (po 11,1 taško). Daugiausiai rungtynių Lietuvos rinktinėje sužaidęs ir daugiausiai olimpinių medalių (3) su ja laimėjęs Gintaras Einikis rinko po 9,6 taško, o pirmajame trejete pagal rungtynių skaičių ir pelnytus taškus esantis Šarūnas Jasikevičius pelnė po 9,9 taško.\n",
        "\"\"\"\n",
        "text = ' '.join(text.strip().split())"
      ],
      "execution_count": null,
      "outputs": []
    },
    {
      "cell_type": "markdown",
      "metadata": {
        "id": "VwmGq53jFjEM"
      },
      "source": [
        "The summary can be obtained by:"
      ]
    },
    {
      "cell_type": "code",
      "metadata": {
        "id": "uRkrkxy6Fl9E"
      },
      "source": [
        "my_pipeline(text)[0][\"generated_text\"]"
      ],
      "execution_count": null,
      "outputs": []
    },
    {
      "cell_type": "markdown",
      "metadata": {
        "id": "4cLgOtz555bx"
      },
      "source": [
        "#Advanced usage"
      ]
    },
    {
      "cell_type": "code",
      "metadata": {
        "id": "p6CLSPw_5yLE"
      },
      "source": [
        "from transformers import T5Tokenizer, T5ForConditionalGeneration\n",
        "name= \"LukasStankevicius/t5-base-lithuanian-news-summaries-175\"\n",
        "tokenizer = T5Tokenizer.from_pretrained(name)\n",
        "model = T5ForConditionalGeneration.from_pretrained(name)\n",
        "def decode(x):\n",
        "    return tokenizer.decode(x, skip_special_tokens=True)"
      ],
      "execution_count": null,
      "outputs": []
    },
    {
      "cell_type": "markdown",
      "metadata": {
        "id": "rURAJ-uu6Ke4"
      },
      "source": [
        "Given the following article body from [15min](https://www.15min.lt/24sek/naujiena/lietuva/tarp-penkiu-rezultatyviausiu-tsrs-rinktines-visu-laiku-zaideju-trys-lietuviai-875-1380030):"
      ]
    },
    {
      "cell_type": "code",
      "metadata": {
        "id": "jHIEDIII6J5t"
      },
      "source": [
        "text = \"\"\"\n",
        "Latvijos krepšinio legenda Valdis Valteris pirmadienį socialiniame tinkle pasidalino statistika, kurios viršūnėje yra Arvydas Sabonis.\n",
        "1982 metais TSRS rinktinėje debiutavęs 222 cm ūgio vidurio puolėjas su raudona apranga sužaidė 52 rungtynes, per kurias rinko po 15,6 taško. Tai pats aukščiausias rezultatyvumo vidurkis tarp visų sovietų komandai atstovavusių žaidėjų, skaičiuojant tuos, kurie sužaidė ne mažiau nei 50 rungtynių. Antras šioje rikiuotėje kitas buvęs Kauno „Žalgirio“ krepšininkas Rimas Kurtinaitis. Jis debiutavo TSRS rinktinėje vėliau nei Sabas, – 1984 metais, bet irgi sužaidė 52 mačus. R.Kurtinaitis pelnė po 15 taškų. 25-ių rezultatyviausių žaidėjų sąrašu pasidalinęs latvis V.Valteris, pelnęs po 13,8 taško, yra trečias.\n",
        "Ketvirtas yra iš Kazachstano kilęs Valerijus Tichonenka, pelnęs po 13,7 taško per 79 rungtynes. Rezultatyviausią visų laikų TSRS rinktinės penketą uždaro Modestas Paulauskas. Lietuvos krepšinio legenda pelnė po 13,6 taško per 84 mačus.\n",
        "Dešimtuke taip pat yra Oleksandras Volkovas (po 13,5 taško), Sergejus Belovas (12,7), Anatolijus Myškinas (po 12,3), Vladimiras Tkačenka (11,7) ir Aleksandras Salnikovas (11,4). Dvyliktas šiame sąraše yra Valdemaras Chomičius, vidutiniškai rinkęs po 10 taškų, o keturioliktas dar vienas buvęs žalgirietis Sergejus Jovaiša (po 9,8 taško). Šarūno Marčiulionio rezultatyvumo vidurkis turėjo būti aukštesnis, bet jis sužaidė mažiau nei 50 rungtynių. Kaip žinia, Lietuvai išsilaisvinus ir atkūrus Nepriklausomybę, visi minėti mūsų šalies krepšininkai, išskyrus karjerą jau baigusį M.Paulauską, užsivilko žalią aprangą ir atstovavo savo tėvynei.\n",
        "A.Sabonis pagal rezultatyvumo vidurkį yra pirmas – jis Lietuvos rinktinei pelnė po 20 taškų. Antras pagal taškų vidurkį yra Artūras Karnišovas, rinkęs po 18,2 taško ir pelnęs iš viso daugiausiai taškų atstovaujant Lietuvos rinktinei (1453).\n",
        "Tarp žaidėjų, kurie sužaidė bent po 50 oficialių rungtynių Lietuvos rinktinėje, trečią vietą užima Ramūnas Šiškauskas (po 12,9), ketvirtąją Linas Kleiza (po 12,7 taško), o penktas – Saulius Štombergas (po 11,1 taško). Daugiausiai rungtynių Lietuvos rinktinėje sužaidęs ir daugiausiai olimpinių medalių (3) su ja laimėjęs Gintaras Einikis rinko po 9,6 taško, o pirmajame trejete pagal rungtynių skaičių ir pelnytus taškus esantis Šarūnas Jasikevičius pelnė po 9,9 taško.\n",
        "\"\"\"\n",
        "text = ' '.join(text.strip().split())\n",
        "input_dict = tokenizer(text,  padding=True, return_tensors=\"pt\", return_attention_mask=True)"
      ],
      "execution_count": null,
      "outputs": []
    },
    {
      "cell_type": "markdown",
      "metadata": {
        "id": "CrovUqYv6PIU"
      },
      "source": [
        "And generation parameters ([documentation](https://huggingface.co/transformers/main_classes/model.html?highlight=generate#transformers.generation_utils.GenerationMixin.generate), [explanation](https://github.com/huggingface/blog/blob/master/notebooks/02_how_to_generate.ipynb)):"
      ]
    },
    {
      "cell_type": "code",
      "metadata": {
        "id": "dwonPT656YKu"
      },
      "source": [
        "g_kwargs = dict(max_length=512, num_beams=10, no_repeat_ngram_size=2, early_stopping=True)"
      ],
      "execution_count": null,
      "outputs": []
    },
    {
      "cell_type": "markdown",
      "metadata": {
        "id": "S0N2WovM6dUE"
      },
      "source": [
        "The summary can be obtained by:"
      ]
    },
    {
      "cell_type": "code",
      "metadata": {
        "id": "jexv864o6eZo"
      },
      "source": [
        "output = model.generate(**input_dict, **g_kwargs)\n",
        "list(map(decode, output.tolist()))[0]"
      ],
      "execution_count": null,
      "outputs": []
    },
    {
      "cell_type": "markdown",
      "metadata": {
        "id": "_Q6z9iEZ6kXZ"
      },
      "source": [
        "If you do a lot of compute you can take advantage of GPU. Obtain summary with:"
      ]
    },
    {
      "cell_type": "code",
      "metadata": {
        "id": "PkLR4y3-6l4i"
      },
      "source": [
        "input_dict = {key:value.to(\"cuda:0\") for key, value in input_dict.items()}\n",
        "model = model.to(\"cuda:0\")\n",
        "output = model.generate(**input_dict, **g_kwargs)\n",
        "list(map(decode, output.cpu().tolist()))[0]"
      ],
      "execution_count": null,
      "outputs": []
    },
    {
      "cell_type": "markdown",
      "metadata": {
        "id": "LTYQCWQq6kMB"
      },
      "source": [
        "# Automatic evaluation\n",
        "We evaluated summaries with [ROUGE](https://www.aclweb.org/anthology/W04-1013/). It measures *n-gram* overlap between reference and generated texts. However, one should not completely trust it as the same meaning can be expressed by different words (*n-grams*). Yet it is almost the best we can do (automated and fast). Lithuanian language is quite rich with different word stem endings so we also \"helped\" ROUGE by stemming words.\n"
      ]
    },
    {
      "cell_type": "code",
      "metadata": {
        "id": "3ROO93m06sHW"
      },
      "source": [
        "! pip install rouge-score\n",
        "! pip install PyStemmer"
      ],
      "execution_count": null,
      "outputs": []
    },
    {
      "cell_type": "markdown",
      "metadata": {
        "id": "9tEJ0-sL62sd"
      },
      "source": [
        "Combining the two:"
      ]
    },
    {
      "cell_type": "code",
      "metadata": {
        "id": "V_syCdWs63_8"
      },
      "source": [
        "from rouge_score import rouge_scorer\n",
        "import Stemmer\n",
        "\n",
        "class MyStemmer:\n",
        "    def __init__(self):\n",
        "        self.stemmer = Stemmer.Stemmer('lithuanian')\n",
        "\n",
        "    def stem(self, token):\n",
        "        return self.stemmer.stemWord(token)\n",
        "\n",
        "\n",
        "class MyRougeScorer(rouge_scorer.RougeScorer):\n",
        "    # I rewrite init to have different stemmer\n",
        "    def __init__(self, rouge_types, use_stemmer=False):\n",
        "        self.rouge_types = rouge_types\n",
        "        self._stemmer = MyStemmer() if use_stemmer else None"
      ],
      "execution_count": null,
      "outputs": []
    },
    {
      "cell_type": "markdown",
      "metadata": {
        "id": "0MixnNJ-6-vN"
      },
      "source": [
        "Now, given the gold reference and generated summary:"
      ]
    },
    {
      "cell_type": "code",
      "metadata": {
        "id": "HjBl8zJv7AAm"
      },
      "source": [
        "ground_truth = \"Kai Lietuva dar buvo okupuota ir mūsų šalies krepšininkai privalėjo žaisti TSRS rinktinėje, keli jų buvo ryškūs lyderiai.\"\n",
        "generated_text = \"Lietuvos krepšinio federacijos (LKF) prezidento Arvydo Sabonio rezultatyvumo vidurkis yra aukščiausias tarp visų Sovietų Sąjungos rinktinėje atstovavusių žaidėjų, skaičiuojant tuos, kurie sužaidė bent po 50 oficialių rungtynių.\""
      ],
      "execution_count": null,
      "outputs": []
    },
    {
      "cell_type": "markdown",
      "metadata": {
        "id": "GpglmZ9j7CqH"
      },
      "source": [
        "Let's calculate ROUGE:"
      ]
    },
    {
      "cell_type": "code",
      "metadata": {
        "id": "7axgM2F77FC2"
      },
      "source": [
        "rouge_types = ['rouge1', 'rouge2', 'rougeL']\n",
        "scorer = MyRougeScorer(rouge_types, use_stemmer=True)\n",
        "score = scorer.score(ground_truth, generated_text)\n",
        "print({s:score[s].fmeasure for s in rouge_types})"
      ],
      "execution_count": null,
      "outputs": []
    },
    {
      "cell_type": "markdown",
      "metadata": {
        "id": "r-hC7Un_7L-x"
      },
      "source": [
        "We monitored training by calculating ROUGE for 4096 validation pairs and noticed that after 250000 training steps our model started to overfit.\n"
      ]
    },
    {
      "cell_type": "markdown",
      "metadata": {
        "id": "vmQyEahV7Nln"
      },
      "source": [
        "# How we trained"
      ]
    }
  ]
}